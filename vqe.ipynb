{
 "cells": [
  {
   "cell_type": "markdown",
   "metadata": {},
   "source": [
    "This is a companion notebook for [arXiv:1512.06860](https://arxiv.org/abs/1512.06860). "
   ]
  },
  {
   "cell_type": "code",
   "execution_count": null,
   "metadata": {},
   "outputs": [],
   "source": [
    "import matplotlib.pyplot as plt\n",
    "import numpy as np\n",
    "import pandas as pd\n",
    "from pyquil import Program\n",
    "from pyquil.api import WavefunctionSimulator\n",
    "from pyquil.paulis import sI, sX, sY, sZ, PauliTerm\n",
    "\n",
    "wfs = WavefunctionSimulator()"
   ]
  },
  {
   "cell_type": "code",
   "execution_count": null,
   "metadata": {},
   "outputs": [],
   "source": [
    "pauli_terms = [sI(0)*sI(1), sZ(0)*sI(1), sI(0)*sZ(1), sZ(0)*sZ(1), sY(0)*sY(1), sX(0)*sX(1)]\n",
    "\n",
    "for term in pauli_terms:\n",
    "    print(term.pauli_string())"
   ]
  },
  {
   "cell_type": "code",
   "execution_count": null,
   "metadata": {},
   "outputs": [],
   "source": [
    "def build_program_wo_ro_measure():\n",
    "    program = Program(\"\"\"\n",
    "# declare placeholder for continuously parameterized RZ rotation angle\n",
    "DECLARE theta REAL\n",
    "\n",
    "# set up initial state\n",
    "X 0\n",
    "\n",
    "# build the exponentiated operator\n",
    "RX(-pi/2) 0\n",
    "RY(pi/2) 1\n",
    "\n",
    "CNOT 1 0\n",
    "RZ(theta) 0\n",
    "CNOT 1 0\n",
    "\n",
    "RX(pi/2) 0\n",
    "RY(-pi/2) 1\"\"\")\n",
    "    return program\n",
    "\n",
    "program_wo_ro_measure = build_program_wo_ro_measure()\n",
    "print(program_wo_ro_measure)"
   ]
  },
  {
   "cell_type": "markdown",
   "metadata": {},
   "source": [
    "## recreating Figure 2a"
   ]
  },
  {
   "cell_type": "code",
   "execution_count": null,
   "metadata": {},
   "outputs": [],
   "source": [
    "thetas = np.linspace(-np.pi, np.pi, 25)\n",
    "\n",
    "pauli_term_evs = [[]]*len(pauli_terms)\n",
    "for theta in thetas:\n",
    "    pauli_term_expectation_values = wfs.expectation(program_wo_ro_measure,\n",
    "                                                    pauli_terms,\n",
    "                                                    memory_map={'theta': [theta]})\n",
    "    pauli_term_evs = list(map(lambda x,y: x + [y], pauli_term_evs, pauli_term_expectation_values))\n",
    "\n",
    "for i in range(len(pauli_terms)):\n",
    "    plt.plot(thetas, pauli_term_evs[i], label=pauli_terms[i].pauli_string())\n",
    "    plt.xlabel(r'rotation angle \\theta')  # LaTeX why\n",
    "    plt.ylabel('expectation value')\n",
    "    plt.legend()"
   ]
  },
  {
   "cell_type": "markdown",
   "metadata": {},
   "source": [
    "## recreating Figure 2b"
   ]
  },
  {
   "cell_type": "code",
   "execution_count": null,
   "metadata": {},
   "outputs": [],
   "source": [
    "thetas = np.linspace(-np.pi, np.pi, 100)\n",
    "bond_lengths = np.linspace(0.20, 2.85, 54) # values determined by Hamiltonian coefficients in Table 1\n",
    "\n",
    "hamiltonain_coefficients = pd.read_csv('vqe_h2.csv', index_col=0, header=None)\n",
    "\n",
    "hamiltonian_evs = np.zeros((len(thetas), len(bond_lengths)))\n",
    "for i, theta in enumerate(thetas):\n",
    "    pauli_term_expectation_values = wfs.expectation(program_wo_ro_measure,\n",
    "                                                    pauli_terms,\n",
    "                                                    memory_map={'theta': [theta]})\n",
    "    for j, R in enumerate(bond_lengths):\n",
    "        hamiltonian_weights = list(hamiltonain_coefficients.loc[round(R, 2)])\n",
    "        # dot the Pauli term expectation values vector with the Hamiltonian weights vector, which is a \n",
    "        # function of bond length R\n",
    "        hamiltonian_expectation_value = np.dot(pauli_term_expectation_values, hamiltonian_weights)\n",
    "        hamiltonian_evs[i][j] = hamiltonian_expectation_value\n",
    "        \n",
    "plt.figure(figsize=(10,10))\n",
    "plt.imshow(hamiltonian_evs)\n",
    "plt.colorbar()\n",
    "plt.xlabel('R: bond_length (angstroms)')\n",
    "plt.ylabel(r'\\theta (radians)')\n",
    "plt.show()"
   ]
  },
  {
   "cell_type": "markdown",
   "metadata": {},
   "source": [
    "## recreating Figure 3a"
   ]
  },
  {
   "cell_type": "code",
   "execution_count": null,
   "metadata": {},
   "outputs": [],
   "source": [
    "min_energies = []\n",
    "for col in range(hamiltonian_evs.shape[1]):\n",
    "    energies = list(hamiltonian_evs[:,col])\n",
    "    min_energy = min(energies)\n",
    "    min_energies.append(min_energy)\n",
    "    theta_min_ev = energies.index(min(energies))\n",
    "    \n",
    "plt.plot(bond_lengths, min_energies)\n",
    "plt.show()"
   ]
  }
 ],
 "metadata": {
  "kernelspec": {
   "display_name": "Python 3",
   "language": "python",
   "name": "python3"
  },
  "language_info": {
   "codemirror_mode": {
    "name": "ipython",
    "version": 3
   },
   "file_extension": ".py",
   "mimetype": "text/x-python",
   "name": "python",
   "nbconvert_exporter": "python",
   "pygments_lexer": "ipython3",
   "version": "3.6.6"
  },
  "toc": {
   "nav_menu": {},
   "number_sections": true,
   "sideBar": true,
   "skip_h1_title": false,
   "title_cell": "Table of Contents",
   "title_sidebar": "Contents",
   "toc_cell": false,
   "toc_position": {},
   "toc_section_display": true,
   "toc_window_display": false
  },
  "varInspector": {
   "cols": {
    "lenName": 16,
    "lenType": 16,
    "lenVar": 40
   },
   "kernels_config": {
    "python": {
     "delete_cmd_postfix": "",
     "delete_cmd_prefix": "del ",
     "library": "var_list.py",
     "varRefreshCmd": "print(var_dic_list())"
    },
    "r": {
     "delete_cmd_postfix": ") ",
     "delete_cmd_prefix": "rm(",
     "library": "var_list.r",
     "varRefreshCmd": "cat(var_dic_list()) "
    }
   },
   "types_to_exclude": [
    "module",
    "function",
    "builtin_function_or_method",
    "instance",
    "_Feature"
   ],
   "window_display": false
  }
 },
 "nbformat": 4,
 "nbformat_minor": 2
}
